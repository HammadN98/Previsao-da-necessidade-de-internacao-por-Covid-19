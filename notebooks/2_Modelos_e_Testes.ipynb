{
 "cells": [
  {
   "cell_type": "markdown",
   "metadata": {},
   "source": [
    "# Tratamento "
   ]
  },
  {
   "cell_type": "markdown",
   "metadata": {},
   "source": [
    "### Importações"
   ]
  },
  {
   "cell_type": "code",
   "execution_count": 1,
   "metadata": {},
   "outputs": [],
   "source": [
    "import warnings\n",
    "warnings.filterwarnings('ignore')"
   ]
  },
  {
   "cell_type": "code",
   "execution_count": 2,
   "metadata": {},
   "outputs": [],
   "source": [
    "import pandas as pd\n",
    "import numpy as np\n",
    "import seaborn as sns\n",
    "import matplotlib.pyplot as plt\n",
    "import pickle\n",
    "np.random.seed(241098)\n",
    "sns.set()\n",
    "sns.set(rc={'figure.figsize':(10,6)})"
   ]
  },
  {
   "cell_type": "code",
   "execution_count": 3,
   "metadata": {},
   "outputs": [],
   "source": [
    "from sklearn.model_selection import train_test_split\n",
    "from sklearn.preprocessing import OrdinalEncoder\n",
    "from sklearn.dummy import DummyClassifier\n",
    "from sklearn.tree import DecisionTreeClassifier\n",
    "from sklearn.linear_model import LogisticRegression\n",
    "from sklearn.ensemble import RandomForestClassifier\n",
    "from sklearn.metrics import accuracy_score\n",
    "from sklearn.metrics import plot_confusion_matrix\n",
    "from sklearn.metrics import classification_report\n",
    "from sklearn.metrics import confusion_matrix, ConfusionMatrixDisplay\n",
    "from sklearn.metrics import roc_auc_score\n",
    "from sklearn.model_selection import cross_validate\n",
    "from sklearn.model_selection import StratifiedKFold\n",
    "from sklearn.model_selection import  RepeatedStratifiedKFold"
   ]
  },
  {
   "cell_type": "markdown",
   "metadata": {},
   "source": [
    "### Apendice:\n",
    "    Ponto de partida, um modelo de DummyClassifier, utilizando a estratefia de mais frequente.\n",
    "\n",
    "    Refinamento:\n",
    "        Exclusão das altas correlações (+0.95), assim baixando o numero de features utilizados, de 229 para 98.\n",
    "        \n",
    "    Testes (Modelos):\n",
    "        Arvore\n",
    "        Regressão Logistica\n",
    "        Floresta 1\n",
    "        Floresta 2\n",
    "        Floresta 3"
   ]
  },
  {
   "cell_type": "markdown",
   "metadata": {},
   "source": [
    "### Modelo Dummy\n"
   ]
  },
  {
   "cell_type": "code",
   "execution_count": 4,
   "metadata": {},
   "outputs": [],
   "source": [
    "# Leitura dos dados salvos com a biblioteca Pickle\n",
    "with open('data_pick', 'rb') as pickle_file:\n",
    "    dados_para_dummy_classifier = pickle.load(pickle_file)"
   ]
  },
  {
   "cell_type": "markdown",
   "metadata": {},
   "source": [
    "O ponto de partida será um modelo com o DummyClassifier, com a estrategia do valor mais frequente."
   ]
  },
  {
   "cell_type": "code",
   "execution_count": 5,
   "metadata": {},
   "outputs": [
    {
     "name": "stdout",
     "output_type": "stream",
     "text": [
      "Acerto: 53.40909090909091\n"
     ]
    }
   ],
   "source": [
    "y = dados_para_dummy_classifier[\"ICU\"]\n",
    "x = dados_para_dummy_classifier.drop([\"ICU\"], axis=1)\n",
    "x_train, x_test, y_train, y_test = train_test_split(x, y, stratify=y)\n",
    "modelo_dummy = DummyClassifier(strategy='most_frequent' )\n",
    "modelo_dummy.fit(x_train, y_train)\n",
    "\n",
    "y_prediction = modelo_dummy.predict(x_test)\n",
    "\n",
    "print(\"Acerto:\",accuracy_score(y_test, y_prediction)*100)"
   ]
  },
  {
   "cell_type": "markdown",
   "metadata": {},
   "source": [
    "## Refinamentos"
   ]
  },
  {
   "cell_type": "markdown",
   "metadata": {},
   "source": [
    "Com o objetivo de refinar nosso modelo, vou comecar removendo as colunas com correlação muito alta(+0.95)"
   ]
  },
  {
   "cell_type": "code",
   "execution_count": 6,
   "metadata": {},
   "outputs": [],
   "source": [
    "\n",
    "def correlacao(dados, pctcorr):\n",
    "     lista_colunas_altas= set()\n",
    "     matrix_correlacao = dados.iloc[:,10:-1].corr().abs()\n",
    "     for i in range(len(matrix_correlacao.columns)):\n",
    "          for j in range(i):\n",
    "               if (matrix_correlacao.iloc[i,j]) > pctcorr:\n",
    "                    nome_col = matrix_correlacao.columns[i]\n",
    "                    lista_colunas_altas.add(nome_col)\n",
    "     return lista_colunas_altas\n",
    "correlacao(dados_para_dummy_classifier, 0.95)\n",
    "\n",
    "colunas_para_remover = correlacao(dados_para_dummy_classifier, 0.95)\n",
    "dados_finais = dados_para_dummy_classifier.drop(colunas_para_remover, axis=1)"
   ]
  },
  {
   "cell_type": "markdown",
   "metadata": {},
   "source": [
    "O dataset passou de 229 para 98 colunas"
   ]
  },
  {
   "cell_type": "markdown",
   "metadata": {},
   "source": [
    "## Testes"
   ]
  },
  {
   "cell_type": "markdown",
   "metadata": {},
   "source": [
    "####  Como metrica final será considerada os Falsos negativos, onde no nosso cenario corresponderia a pessas que precisam de UTI e foram diagnosticadas com Não precisantes"
   ]
  },
  {
   "cell_type": "code",
   "execution_count": 34,
   "metadata": {},
   "outputs": [
    {
     "name": "stdout",
     "output_type": "stream",
     "text": [
      "              precision    recall  f1-score   support\n",
      "\n",
      "           0       0.64      0.87      0.74        47\n",
      "           1       0.75      0.44      0.55        41\n",
      "\n",
      "    accuracy                           0.67        88\n",
      "   macro avg       0.70      0.66      0.65        88\n",
      "weighted avg       0.69      0.67      0.65        88\n",
      "\n"
     ]
    },
    {
     "data": {
      "image/png": "[encoded data removed]",
      "text/plain": [
       "<Figure size 720x432 with 2 Axes>"
      ]
     },
     "metadata": {},
     "output_type": "display_data"
    }
   ],
   "source": [
    "# Arvore de decisão:\n",
    "def arvore(dados):\n",
    "    np.random.seed(241098)\n",
    "\n",
    "    y = dados[\"ICU\"]\n",
    "    x = dados.drop([\"ICU\"], axis=1)\n",
    "    x_train, x_test, y_train, y_test = train_test_split(x, y, stratify=y, test_size=0.25, random_state=0)\n",
    "    modelo_arvore = DecisionTreeClassifier(random_state=0, max_depth=2)\n",
    "    modelo_arvore.fit(x_train, y_train)\n",
    "    y_pred_arvore = modelo_arvore.predict(x_test)\n",
    "\n",
    "    cm = confusion_matrix(y_test, y_pred_arvore)\n",
    "    disp = ConfusionMatrixDisplay(confusion_matrix=cm) \n",
    "    disp.plot(cmap='cividis')\n",
    "    print(classification_report(y_test, y_pred_arvore))\n",
    "    plt.grid(False)\n",
    "    plt.title('Matrix de Confusão')\n",
    "    plt.xlabel('Previsto')\n",
    "    plt.ylabel('Verdadeiro')\n",
    "    plt.show()\n",
    "\n",
    "arvore(dados_finais) "
   ]
  },
  {
   "cell_type": "markdown",
   "metadata": {},
   "source": [
    "Uma primeira arvore, a qual possui um resultado catastrofico.\n",
    "Teriam 23 pacientes que precisam de UTI mandados para casa."
   ]
  },
  {
   "cell_type": "code",
   "execution_count": 33,
   "metadata": {},
   "outputs": [
    {
     "name": "stdout",
     "output_type": "stream",
     "text": [
      "              precision    recall  f1-score   support\n",
      "\n",
      "           0       0.83      0.83      0.83        47\n",
      "           1       0.80      0.80      0.80        41\n",
      "\n",
      "    accuracy                           0.82        88\n",
      "   macro avg       0.82      0.82      0.82        88\n",
      "weighted avg       0.82      0.82      0.82        88\n",
      "\n"
     ]
    },
    {
     "data": {
      "image/png": "[encoded data removed]",
      "text/plain": [
       "<Figure size 720x432 with 2 Axes>"
      ]
     },
     "metadata": {},
     "output_type": "display_data"
    },
    {
     "name": "stdout",
     "output_type": "stream",
     "text": [
      "Media da validação cruzada: 0.7704063213931636\n"
     ]
    }
   ],
   "source": [
    "# Modelo de Regressão Logistica:\n",
    "def regressao_logistica(dados):\n",
    "    np.random.seed(241098)\n",
    "\n",
    "    y = dados[\"ICU\"]\n",
    "    x = dados.drop([\"ICU\"], axis=1)\n",
    "    x_train, x_test, y_train, y_test = train_test_split(x, y, stratify=y,test_size=0.25, random_state=0)\n",
    "    modelo_rl = LogisticRegression(random_state=0)\n",
    "    modelo_rl.fit(x_train, y_train)\n",
    "    y_pred = modelo_rl.predict(x_test)\n",
    "    \n",
    "    cvv = RepeatedStratifiedKFold(n_splits = 5, n_repeats=10 )\n",
    "    resultados = cross_validate(modelo_rl, x, y, cv =cvv, scoring='roc_auc')\n",
    "    media_cross = np.mean(resultados['test_score'])\n",
    "    \n",
    "    cm = confusion_matrix(y_test, y_pred)\n",
    "    disp = ConfusionMatrixDisplay(confusion_matrix=cm)\n",
    "    disp.plot(cmap='cividis')\n",
    "    print(classification_report(y_test, y_pred))\n",
    "    plt.grid(False)\n",
    "    plt.title('Matrix de Confusão')\n",
    "    plt.xlabel('Previsto')\n",
    "    plt.ylabel('Verdadeiro')\n",
    "    plt.show()\n",
    "\n",
    "    print('Media da validação cruzada:',media_cross)\n",
    "\n",
    "regressao_logistica(dados_finais)"
   ]
  },
  {
   "cell_type": "markdown",
   "metadata": {},
   "source": [
    "A Regressão Logistica foi muito melhor que a arvore simples tanto em todo classification_report, mas também nos Falsos Negativos"
   ]
  },
  {
   "cell_type": "markdown",
   "metadata": {},
   "source": [
    "A seguir contém varias tentativas de um RandomForestClassifier o qual eu espera que fosse performar melhor que a regressão logistica, porém nas minhas 3 tentativas isso não ocorreu. Nem o classification_report, como um resultado de Falsos Negativos conseguiram superar a Regressão Logistica. Que acabou sendo o modelo escolhido!"
   ]
  },
  {
   "cell_type": "code",
   "execution_count": 36,
   "metadata": {},
   "outputs": [
    {
     "name": "stdout",
     "output_type": "stream",
     "text": [
      "              precision    recall  f1-score   support\n",
      "\n",
      "           0       0.79      0.81      0.80        47\n",
      "           1       0.78      0.76      0.77        41\n",
      "\n",
      "    accuracy                           0.78        88\n",
      "   macro avg       0.78      0.78      0.78        88\n",
      "weighted avg       0.78      0.78      0.78        88\n",
      "\n"
     ]
    },
    {
     "data": {
      "image/png": "[encoded data removed]",
      "text/plain": [
       "<Figure size 720x432 with 2 Axes>"
      ]
     },
     "metadata": {},
     "output_type": "display_data"
    }
   ],
   "source": [
    "# Minha primeira floresta basica\n",
    "def floresta(dados, estimator):\n",
    "    np.random.seed(241098)\n",
    "\n",
    "    y = dados[\"ICU\"]\n",
    "    x = dados.drop([\"ICU\"], axis=1)\n",
    "    x_train, x_test, y_train, y_test = train_test_split(x, y, stratify=y, test_size=0.25, random_state=0)\n",
    "    modelo_floresta = RandomForestClassifier(n_estimators=estimator, random_state=0)\n",
    "    modelo_floresta.fit(x_train, y_train)\n",
    "    y_pred = modelo_floresta.predict(x_test)\n",
    "    \n",
    "    cm = confusion_matrix(y_test, y_pred)\n",
    "    disp = ConfusionMatrixDisplay(confusion_matrix=cm)\n",
    "    disp.plot(cmap='cividis')\n",
    "    print(classification_report(y_test, y_pred))\n",
    "    plt.grid(False)\n",
    "    plt.title('Matrix de Confusão')\n",
    "    plt.xlabel('Previsto')\n",
    "    plt.ylabel('Verdadeiro')\n",
    "    plt.show()\n",
    "\n",
    "    \n",
    "floresta(dados_finais, 40)\n",
    "\n",
    "\n"
   ]
  },
  {
   "cell_type": "code",
   "execution_count": 38,
   "metadata": {},
   "outputs": [
    {
     "name": "stdout",
     "output_type": "stream",
     "text": [
      "              precision    recall  f1-score   support\n",
      "\n",
      "           0       0.79      0.81      0.80        47\n",
      "           1       0.78      0.76      0.77        41\n",
      "\n",
      "    accuracy                           0.78        88\n",
      "   macro avg       0.78      0.78      0.78        88\n",
      "weighted avg       0.78      0.78      0.78        88\n",
      "\n"
     ]
    },
    {
     "data": {
      "image/png": "[encoded data removed]",
      "text/plain": [
       "<Figure size 720x432 with 2 Axes>"
      ]
     },
     "metadata": {},
     "output_type": "display_data"
    },
    {
     "name": "stdout",
     "output_type": "stream",
     "text": [
      "Media da calidação cruzada:  0.7907001109961636\n"
     ]
    }
   ],
   "source": [
    "# Minha segunda floresta com RepeatedStratifiedKFold e um numero de 40 arvores\n",
    "\n",
    "def floresta(dados, estimator):\n",
    "    np.random.seed(241098)\n",
    "\n",
    "    y = dados[\"ICU\"]\n",
    "    x = dados.drop([\"ICU\"], axis=1)\n",
    "    x_train, x_test, y_train, y_test = train_test_split(x, y, stratify=y, test_size=0.25, random_state=0)\n",
    "    modelo_floresta = RandomForestClassifier(n_estimators=estimator, random_state=0)\n",
    "    modelo_floresta.fit(x_train, y_train)\n",
    "    y_pred = modelo_floresta.predict(x_test)\n",
    "    \n",
    "    cvv = RepeatedStratifiedKFold(n_splits = 5, n_repeats=10 )\n",
    "    resultados = cross_validate(modelo_floresta, x, y, cv =cvv, scoring='roc_auc')\n",
    "\n",
    "    cm = confusion_matrix(y_test, y_pred)\n",
    "    disp = ConfusionMatrixDisplay(confusion_matrix=cm)\n",
    "    disp.plot(cmap='cividis')\n",
    "    print(classification_report(y_test, y_pred))\n",
    "    plt.grid(False)\n",
    "    plt.title('Matrix de Confusão')\n",
    "    plt.xlabel('Previsto')\n",
    "    plt.ylabel('Verdadeiro')\n",
    "    plt.show()\n",
    "\n",
    "    media_cross = np.mean(resultados['test_score'])\n",
    "    print('Media da calidação cruzada: ',media_cross)\n",
    "    # return print('Media da validação cruzada:',media_cross), plot_confusion_matrix(modelo_floresta, x_test, y_test), print(classification_report(y_test, y_pred))\n",
    "\n",
    "floresta(dados_finais, 40)\n",
    "\n",
    "\n"
   ]
  },
  {
   "cell_type": "code",
   "execution_count": 39,
   "metadata": {},
   "outputs": [
    {
     "name": "stdout",
     "output_type": "stream",
     "text": [
      "              precision    recall  f1-score   support\n",
      "\n",
      "           0       0.81      0.81      0.81        47\n",
      "           1       0.78      0.78      0.78        41\n",
      "\n",
      "    accuracy                           0.80        88\n",
      "   macro avg       0.79      0.79      0.79        88\n",
      "weighted avg       0.80      0.80      0.80        88\n",
      "\n"
     ]
    },
    {
     "data": {
      "image/png": "[encoded data removed]",
      "text/plain": [
       "<Figure size 720x432 with 2 Axes>"
      ]
     },
     "metadata": {},
     "output_type": "display_data"
    },
    {
     "name": "stdout",
     "output_type": "stream",
     "text": [
      "Media da validação cruzada(roc_auc):  0.7986157875046764\n"
     ]
    }
   ],
   "source": [
    "# Minha terceira floresta com StratifiedKFold e um numero de 400 arvores\n",
    "\n",
    "def floresta(dados, estimator):\n",
    "    np.random.seed(241098)\n",
    "\n",
    "    y = dados[\"ICU\"]\n",
    "    x = dados.drop([\"ICU\"], axis=1)\n",
    "    x_train, x_test, y_train, y_test = train_test_split(x, y, stratify=y, test_size=0.25, random_state=0)\n",
    "    modelo_floresta = RandomForestClassifier(n_estimators=estimator, random_state=0)\n",
    "    modelo_floresta.fit(x_train, y_train)\n",
    "    y_pred = modelo_floresta.predict(x_test)\n",
    "    \n",
    "    \n",
    "    cv = StratifiedKFold(n_splits = 3, shuffle=True)\n",
    "    resultados = cross_validate(modelo_floresta, x, y, cv =cv, scoring='roc_auc')\n",
    "    media_cross = np.mean(resultados['test_score'])\n",
    "    \n",
    "    cm = confusion_matrix(y_test, y_pred)\n",
    "    disp = ConfusionMatrixDisplay(confusion_matrix=cm)\n",
    "    disp.plot(cmap='cividis')\n",
    "    print(classification_report(y_test, y_pred))\n",
    "    plt.grid(False)\n",
    "    plt.title('Matrix de Confusão')\n",
    "    plt.xlabel('Previsto')\n",
    "    plt.ylabel('Verdadeiro')\n",
    "    plt.show() \n",
    "    print('Media da validação cruzada(roc_auc): ',media_cross)\n",
    "\n",
    "floresta(dados_finais, 400)   "
   ]
  },
  {
   "cell_type": "markdown",
   "metadata": {},
   "source": [
    "Sendo este ultimo modelo de floresta o que mais se aproximou da Regressão Logistica"
   ]
  },
  {
   "cell_type": "markdown",
   "metadata": {},
   "source": [
    "### Conclusões"
   ]
  },
  {
   "cell_type": "code",
   "execution_count": 45,
   "metadata": {},
   "outputs": [
    {
     "data": {
      "text/html": [
       "<style type=\"text/css\">\n",
       "#T_f4339_row0_col0, #T_f4339_row0_col1, #T_f4339_row0_col2, #T_f4339_row1_col3 {\n",
       "  background-color: lightgray;\n",
       "  color: lightcoral;\n",
       "}\n",
       "#T_f4339_row1_col0, #T_f4339_row1_col1, #T_f4339_row1_col2, #T_f4339_row4_col3 {\n",
       "  background-color: lightgray;\n",
       "  color: royalblue;\n",
       "}\n",
       "</style>\n",
       "<table id=\"T_f4339_\">\n",
       "  <thead>\n",
       "    <tr>\n",
       "      <th class=\"blank level0\" >&nbsp;</th>\n",
       "      <th class=\"col_heading level0 col0\" >Falso Negativos</th>\n",
       "      <th class=\"col_heading level0 col1\" >Verdadeiro Positivos</th>\n",
       "      <th class=\"col_heading level0 col2\" >F1-Score</th>\n",
       "      <th class=\"col_heading level0 col3\" >Roc_Auc</th>\n",
       "    </tr>\n",
       "  </thead>\n",
       "  <tbody>\n",
       "    <tr>\n",
       "      <th id=\"T_f4339_level0_row0\" class=\"row_heading level0 row0\" >Árvore</th>\n",
       "      <td id=\"T_f4339_row0_col0\" class=\"data row0 col0\" >23</td>\n",
       "      <td id=\"T_f4339_row0_col1\" class=\"data row0 col1\" >18</td>\n",
       "      <td id=\"T_f4339_row0_col2\" class=\"data row0 col2\" >0.670000</td>\n",
       "      <td id=\"T_f4339_row0_col3\" class=\"data row0 col3\" >nan</td>\n",
       "    </tr>\n",
       "    <tr>\n",
       "      <th id=\"T_f4339_level0_row1\" class=\"row_heading level0 row1\" >Regressão</th>\n",
       "      <td id=\"T_f4339_row1_col0\" class=\"data row1 col0\" >8</td>\n",
       "      <td id=\"T_f4339_row1_col1\" class=\"data row1 col1\" >33</td>\n",
       "      <td id=\"T_f4339_row1_col2\" class=\"data row1 col2\" >0.810000</td>\n",
       "      <td id=\"T_f4339_row1_col3\" class=\"data row1 col3\" >0.770000</td>\n",
       "    </tr>\n",
       "    <tr>\n",
       "      <th id=\"T_f4339_level0_row2\" class=\"row_heading level0 row2\" >Floresta_1</th>\n",
       "      <td id=\"T_f4339_row2_col0\" class=\"data row2 col0\" >10</td>\n",
       "      <td id=\"T_f4339_row2_col1\" class=\"data row2 col1\" >31</td>\n",
       "      <td id=\"T_f4339_row2_col2\" class=\"data row2 col2\" >0.780000</td>\n",
       "      <td id=\"T_f4339_row2_col3\" class=\"data row2 col3\" >nan</td>\n",
       "    </tr>\n",
       "    <tr>\n",
       "      <th id=\"T_f4339_level0_row3\" class=\"row_heading level0 row3\" >Floresta_2</th>\n",
       "      <td id=\"T_f4339_row3_col0\" class=\"data row3 col0\" >10</td>\n",
       "      <td id=\"T_f4339_row3_col1\" class=\"data row3 col1\" >31</td>\n",
       "      <td id=\"T_f4339_row3_col2\" class=\"data row3 col2\" >0.780000</td>\n",
       "      <td id=\"T_f4339_row3_col3\" class=\"data row3 col3\" >0.790000</td>\n",
       "    </tr>\n",
       "    <tr>\n",
       "      <th id=\"T_f4339_level0_row4\" class=\"row_heading level0 row4\" >Floresta_3</th>\n",
       "      <td id=\"T_f4339_row4_col0\" class=\"data row4 col0\" >9</td>\n",
       "      <td id=\"T_f4339_row4_col1\" class=\"data row4 col1\" >32</td>\n",
       "      <td id=\"T_f4339_row4_col2\" class=\"data row4 col2\" >0.800000</td>\n",
       "      <td id=\"T_f4339_row4_col3\" class=\"data row4 col3\" >0.798000</td>\n",
       "    </tr>\n",
       "  </tbody>\n",
       "</table>\n"
      ],
      "text/plain": [
       "<pandas.io.formats.style.Styler at 0x18549c50fd0>"
      ]
     },
     "execution_count": 45,
     "metadata": {},
     "output_type": "execute_result"
    }
   ],
   "source": [
    "data = [{'Falso Negativos': 23, 'Verdadeiro Positivos': 18, 'F1-Score': 0.67}, {'Falso Negativos': 8, 'Verdadeiro Positivos': 33, 'F1-Score': 0.81 , 'Roc_Auc': 0.770}, {'Falso Negativos': 10, 'Verdadeiro Positivos': 31, 'F1-Score': 0.78},{'Falso Negativos': 10, 'Verdadeiro Positivos': 31, 'F1-Score': 0.78 , 'Roc_Auc': 0.790},{'Falso Negativos': 9, 'Verdadeiro Positivos': 32, 'F1-Score': 0.80, 'Roc_Auc': 0.798}]\n",
    "datas= pd.DataFrame(data, index =['Árvore', 'Regressão', 'Floresta_1', 'Floresta_2', 'Floresta_3'])\n",
    "\n",
    "datas.style.highlight_min(subset=['Falso Negativos'], \n",
    "props='background-color: lightgray; color: royalblue').highlight_max(subset=['Falso Negativos'], \n",
    "props='background-color: lightgray; color: lightcoral').highlight_min(subset=['Verdadeiro Positivos'], \n",
    "props='background-color: lightgray; color: lightcoral').highlight_max(subset=['Verdadeiro Positivos'],\n",
    "props='background-color: lightgray; color: royalblue').highlight_min(subset=['F1-Score'], \n",
    "props='background-color: lightgray; color: lightcoral').highlight_max(subset=['F1-Score'],\n",
    "props='background-color: lightgray; color: royalblue').highlight_min(subset=['Roc_Auc'], \n",
    "props='background-color: lightgray; color: lightcoral').highlight_max(subset=['Roc_Auc'],\n",
    "props='background-color: lightgray; color: royalblue')\n",
    "# O codigo aqui esta identado desta forma exotica, com a finalidade de poder encolher as linhas de codigo."
   ]
  },
  {
   "cell_type": "markdown",
   "metadata": {},
   "source": [
    "O modelo de Regressão Logistica, foi escolhido com os seguintes criterios, maior precisão(F1-Score) e também pelas resultados da matrix de confusão. Que considerando nosso problema \"Saber se o paciente precisa ser internado ou não\", o pior problema seria mandar um paciente que precisa ser internado para casa, como o resultado desse modelo teve o menor numero de Falsos Negativos foi o escolhido. E tambem sendo ele o com maior numero de verdadeiros positivos. Apesar de ser o com o menor valor de Curva Auc."
   ]
  },
  {
   "cell_type": "markdown",
   "metadata": {},
   "source": [
    "#### Trabalhos futuros\n",
    "    Criar modelos utilizando os algoritimos de KNN, Naive Bays e SVM."
   ]
  }
 ],
 "metadata": {
  "interpreter": {
   "hash": "6d22120604996a870ee00b60cde7485d462772ca8d7fb7e68d5e4d1e2f72fe23"
  },
  "kernelspec": {
   "display_name": "Python 3.10.1 64-bit",
   "language": "python",
   "name": "python3"
  },
  "language_info": {
   "codemirror_mode": {
    "name": "ipython",
    "version": 3
   },
   "file_extension": ".py",
   "mimetype": "text/x-python",
   "name": "python",
   "nbconvert_exporter": "python",
   "pygments_lexer": "ipython3",
   "version": "3.10.1"
  },
  "orig_nbformat": 4
 },
 "nbformat": 4,
 "nbformat_minor": 2
}
